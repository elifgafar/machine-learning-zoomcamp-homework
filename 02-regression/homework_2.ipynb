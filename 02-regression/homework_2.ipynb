{
 "cells": [
  {
   "cell_type": "code",
   "execution_count": null,
   "id": "750c0263-3a7e-4852-b250-24fdad6224e0",
   "metadata": {},
   "outputs": [],
   "source": [
    "import pandas as pd\n",
    "import seaborn as sns\n",
    "import numpy as np\n",
    "import matplotlib.pyplot as plt"
   ]
  },
  {
   "cell_type": "code",
   "execution_count": null,
   "id": "4cc76aec",
   "metadata": {},
   "outputs": [],
   "source": [
    "url = \"https://raw.githubusercontent.com/alexeygrigorev/datasets/master/car_fuel_efficiency.csv\"\n",
    "df = pd.read_csv(url)\n",
    "df.sample(3, random_state=42)"
   ]
  },
  {
   "cell_type": "markdown",
   "id": "d47081d9",
   "metadata": {},
   "source": [
    "## Question 1\n",
    "* There's one column with missing values. What is it?"
   ]
  },
  {
   "cell_type": "code",
   "execution_count": null,
   "id": "2f69c754-e910-436b-86dc-a42e623bbf61",
   "metadata": {},
   "outputs": [],
   "source": [
    "(df.isnull().sum().reset_index(name=\"missing\").query(\"missing > 0\"))"
   ]
  },
  {
   "cell_type": "markdown",
   "id": "ce4a5432",
   "metadata": {},
   "source": [
    "## Question 2\n",
    "* What's the median (50% percentile) for variable 'horsepower'?"
   ]
  },
  {
   "cell_type": "code",
   "execution_count": null,
   "id": "464046cf",
   "metadata": {},
   "outputs": [],
   "source": [
    "print(f\"The median for horsepower is {df.horsepower.median()}\")"
   ]
  }
 ],
 "metadata": {
  "kernelspec": {
   "display_name": "Python 3 (ipykernel)",
   "language": "python",
   "name": "python3"
  },
  "language_info": {
   "codemirror_mode": {
    "name": "ipython",
    "version": 3
   },
   "file_extension": ".py",
   "mimetype": "text/x-python",
   "name": "python",
   "nbconvert_exporter": "python",
   "pygments_lexer": "ipython3",
   "version": "3.12.1"
  }
 },
 "nbformat": 4,
 "nbformat_minor": 5
}
